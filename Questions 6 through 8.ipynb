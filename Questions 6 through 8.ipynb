{
 "cells": [
  {
   "cell_type": "markdown",
   "id": "ff810af0",
   "metadata": {},
   "source": [
    "### 6. What topics are grads continuing to reference after graduation and into their jobs (for each program)?"
   ]
  },
  {
   "cell_type": "code",
   "execution_count": null,
   "id": "3a92bf3e",
   "metadata": {},
   "outputs": [],
   "source": [
    "# Create data frame of graduated students\n",
    "grads = df_dw[df_dw['date'] > df_dw['end_date']]"
   ]
  },
  {
   "cell_type": "code",
   "execution_count": null,
   "id": "f2ded129",
   "metadata": {},
   "outputs": [],
   "source": [
    "# Data Science students referring to the curriculum after graduation\n",
    "DS_grads = grads[(grads.index > grads['end_date']) & (grads['program_id']== 3.0)]"
   ]
  },
  {
   "cell_type": "code",
   "execution_count": null,
   "id": "cda87ef9",
   "metadata": {},
   "outputs": [],
   "source": [
    "# Plot the top 10 most view topics by grads in Data science \n",
    "DS_grads.endpoint.value_counts().head(10).plot.bar(title = 'Data Science Most Visited By Grads', figsize = (15,8));"
   ]
  },
  {
   "cell_type": "code",
   "execution_count": null,
   "id": "cfa71ea0",
   "metadata": {},
   "outputs": [],
   "source": [
    "# Java Full Stack Web Development students referring to the curriculum after graduation\n",
    "java_full_stack_web_development = grads[(grads.index > grads['end_date']) & (grads['program_id']== 2.0)]"
   ]
  },
  {
   "cell_type": "code",
   "execution_count": null,
   "id": "34e28f7b",
   "metadata": {},
   "outputs": [],
   "source": [
    "# Plot the top 10 most view topics by grads in Java Full Stack Web Development\n",
    "java_full_stack_web_development.endpoint.value_counts().head(10).plot.bar(title = 'Java Full Stack Web Development Most Visited By Grads', figsize = (15,8));"
   ]
  },
  {
   "cell_type": "code",
   "execution_count": null,
   "id": "86008f84",
   "metadata": {},
   "outputs": [],
   "source": [
    "# PHP Full Stack Web Development students referring to the curriculum after graduation\n",
    "PHP_full_stack_web_development = grads[(grads.index > grads['end_date']) & (grads['program_id']== 1.0)]"
   ]
  },
  {
   "cell_type": "code",
   "execution_count": null,
   "id": "8489f738",
   "metadata": {},
   "outputs": [],
   "source": [
    "# Plot the top 10 most view topics by grads in PHP Full Stack Web Development\n",
    "PHP_full_stack_web_development.endpoint.value_counts().head(10).plot.bar(title = 'PHP Full Stack Web Development Most Visited By Grads', figsize = (15,8));"
   ]
  },
  {
   "cell_type": "code",
   "execution_count": null,
   "id": "d1f1c261",
   "metadata": {},
   "outputs": [],
   "source": [
    "# Front End Web Development students referring to the curriculum after graduation\n",
    "front_end_web_development = grads[(grads.index > grads['end_date']) & (grads['program_id']== 4.0)]\n"
   ]
  },
  {
   "cell_type": "code",
   "execution_count": null,
   "id": "9b169853",
   "metadata": {},
   "outputs": [],
   "source": [
    "# Plot the view topics by grads in PHP Front End Web Development\n",
    "front_end_web_development.endpoint.value_counts().head(10).plot.bar(title = 'Front End Web Development Most Visited By Grads', figsize = (15,8));"
   ]
  },
  {
   "cell_type": "markdown",
   "id": "43c16af9",
   "metadata": {},
   "source": [
    "#### Takeaways:\n",
    " - DS graduates acces sql, classiffication, and anomaly detection the most.\n",
    " - Java WD graduates access javascript, spring and html-css teh most.\n",
    " - Fulls Stack WD graduates access the index.html, javascript-i, and html-css lessons the most.\n",
    " - Front End WD graduates access the content/html-css, gitbook, and the intro lesson the most."
   ]
  },
  {
   "cell_type": "markdown",
   "id": "2d02602d",
   "metadata": {},
   "source": [
    "### 7. Which lessons are least accessed?"
   ]
  },
  {
   "cell_type": "code",
   "execution_count": null,
   "id": "90b74886",
   "metadata": {},
   "outputs": [],
   "source": [
    "# Create series for data science only where we count the accessed endpoints\n",
    "least_accessed_ds = df_dw[df_dw['program_name'] == 'Data Science'].endpoint.value_counts()"
   ]
  },
  {
   "cell_type": "code",
   "execution_count": null,
   "id": "2763b26c",
   "metadata": {},
   "outputs": [],
   "source": [
    "# turn least_accessed seriesn into panda df\n",
    "least_accessed_ds = pd.DataFrame(least_accessed_ds)\n",
    "# arrange least_accessed data frame by the count of enpoit \n",
    "least_accessed_ds = least_accessed_ds.sort_values('endpoint').index.value_counts().rename('endpoint_count').reset_index()"
   ]
  },
  {
   "cell_type": "code",
   "execution_count": null,
   "id": "01f3b6f9",
   "metadata": {},
   "outputs": [],
   "source": [
    "least_accessed_ds.shape"
   ]
  },
  {
   "cell_type": "markdown",
   "id": "e1acdac4",
   "metadata": {},
   "source": [
    "### Takeaway\n",
    "\n",
    "- 631 endpoints could be classified as the least accessed for data science students.\n",
    "\n",
    "-------------------"
   ]
  },
  {
   "cell_type": "code",
   "execution_count": null,
   "id": "7002111e",
   "metadata": {},
   "outputs": [],
   "source": [
    "least_accessed_ds.head(10)"
   ]
  },
  {
   "cell_type": "code",
   "execution_count": null,
   "id": "3cf00a1a",
   "metadata": {},
   "outputs": [],
   "source": [
    "# Create series for web development records only where we count the accessed endpoints\n",
    "least_accessed_by_web_developers = df_dw[df_dw['program_name'] != 'Data Science'].endpoint.value_counts();"
   ]
  },
  {
   "cell_type": "code",
   "execution_count": null,
   "id": "d5347de6",
   "metadata": {},
   "outputs": [],
   "source": [
    "# turn least_accessed_by_web_developers seriesn into panda df\n",
    "least_accessed_by_web_developers = pd.DataFrame(least_accessed_by_web_developers)"
   ]
  },
  {
   "cell_type": "code",
   "execution_count": null,
   "id": "03bc4566",
   "metadata": {},
   "outputs": [],
   "source": [
    "# arrange least_accessed data frame by the count of enpoit \n",
    "least_accessed_by_web_developers = least_accessed_by_web_developers.sort_values('endpoint').index.value_counts().rename('endpoint_count').reset_index()"
   ]
  },
  {
   "cell_type": "code",
   "execution_count": null,
   "id": "cca519f5",
   "metadata": {},
   "outputs": [],
   "source": [
    "least_accessed_by_web_developers.shape"
   ]
  },
  {
   "cell_type": "markdown",
   "id": "6f2a363f",
   "metadata": {},
   "source": [
    "### Takeaway\n",
    "\n",
    "- 1258 endpoints could be classified as the least accessed for web development students.\n",
    "\n",
    "-------------------"
   ]
  },
  {
   "cell_type": "code",
   "execution_count": null,
   "id": "69e8cb78",
   "metadata": {},
   "outputs": [],
   "source": [
    "least_accessed_by_web_developers.head(10)"
   ]
  },
  {
   "cell_type": "code",
   "execution_count": null,
   "id": "d5e372fe",
   "metadata": {},
   "outputs": [],
   "source": [
    "# export least acessed ds topics to csv\n",
    "least_accessed_ds.to_csv('least_accessed_ds.csv')"
   ]
  },
  {
   "cell_type": "code",
   "execution_count": null,
   "id": "c7bceb64",
   "metadata": {},
   "outputs": [],
   "source": [
    "# export least acessed wd topics to csv\n",
    "least_accessed_by_web_developers.to_csv('least_accessed_by_web_developers.csv')"
   ]
  },
  {
   "cell_type": "markdown",
   "id": "21e52faa",
   "metadata": {},
   "source": [
    "### 8. Anything else I should be aware of?"
   ]
  },
  {
   "cell_type": "code",
   "execution_count": null,
   "id": "caecc506",
   "metadata": {},
   "outputs": [],
   "source": [
    "# let's create graphs showing the % taken by the top 10 values by each feature  \n",
    "for col in df_dw.columns:\n",
    "    plt.figure(figsize = (16, 6))\n",
    "    splot = sns.barplot(x = 'index', y = col, data = df_dw[col].value_counts(\n",
    "        normalize = True).reset_index().sort_values(by = col, ascending = False).head(10))\n",
    "    for p in splot.patches:\n",
    "        splot.annotate(format(p.get_height() * 100, '.1f') + ' %', \n",
    "                   (p.get_x() + p.get_width() / 2., p.get_height()), \n",
    "                   ha = 'center', va = 'center', \n",
    "                   size = 10,  \n",
    "                   xytext = (0, 8), \n",
    "                   textcoords = 'offset points')\n",
    "    plt.xticks(rotation = 90)  \n",
    "    plt.title(col.title())\n",
    "    plt.ylabel('Percentage')\n",
    "    plt.show()"
   ]
  },
  {
   "cell_type": "code",
   "execution_count": null,
   "id": "7b24f0e4",
   "metadata": {},
   "outputs": [],
   "source": [
    "# most accessed endpoints by cohort \n",
    "with pd.option_context('display.max_rows', None):\n",
    "    # let's remove the toc page and the slash page as it seems to be the homepage\n",
    "    no_slash_toc = df_dw[(df_dw['endpoint'] != '/') & (df_dw['endpoint'] != 'toc')]\n",
    "    counts = pd.DataFrame(no_slash_toc.groupby('cohort_name').endpoint.value_counts().sort_values(ascending = False))\n",
    "    # let's see pages with more than 800 views.\n",
    "    display(counts[counts > 800].dropna())"
   ]
  },
  {
   "cell_type": "code",
   "execution_count": null,
   "id": "9be9cbd6",
   "metadata": {},
   "outputs": [],
   "source": []
  }
 ],
 "metadata": {
  "kernelspec": {
   "display_name": "Python 3 (ipykernel)",
   "language": "python",
   "name": "python3"
  },
  "language_info": {
   "codemirror_mode": {
    "name": "ipython",
    "version": 3
   },
   "file_extension": ".py",
   "mimetype": "text/x-python",
   "name": "python",
   "nbconvert_exporter": "python",
   "pygments_lexer": "ipython3",
   "version": "3.7.3"
  }
 },
 "nbformat": 4,
 "nbformat_minor": 5
}
